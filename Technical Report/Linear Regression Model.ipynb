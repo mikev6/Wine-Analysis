{
 "cells": [
  {
   "cell_type": "markdown",
   "metadata": {},
   "source": [
    "# Red Wine"
   ]
  },
  {
   "cell_type": "code",
   "execution_count": 63,
   "metadata": {
    "scrolled": true
   },
   "outputs": [
    {
     "name": "stdout",
     "output_type": "stream",
     "text": [
      "                            OLS Regression Results                            \n",
      "==============================================================================\n",
      "Dep. Variable:                quality   R-squared:                       0.570\n",
      "Model:                            OLS   Adj. R-squared:                  0.560\n",
      "Method:                 Least Squares   F-statistic:                     57.77\n",
      "Date:                Sat, 05 Dec 2020   Prob (F-statistic):           4.35e-38\n",
      "Time:                        10:29:31   Log-Likelihood:                -299.78\n",
      "No. Observations:                 224   AIC:                             611.6\n",
      "Df Residuals:                     218   BIC:                             632.0\n",
      "Df Model:                           5                                         \n",
      "Covariance Type:            nonrobust                                         \n",
      "====================================================================================\n",
      "                       coef    std err          t      P>|t|      [0.025      0.975]\n",
      "------------------------------------------------------------------------------------\n",
      "const                6.3185      0.063    100.968      0.000       6.195       6.442\n",
      "volatile acidity    -0.4579      0.080     -5.730      0.000      -0.615      -0.300\n",
      "chlorides           -0.2603      0.068     -3.810      0.000      -0.395      -0.126\n",
      "pH                  -0.2657      0.073     -3.632      0.000      -0.410      -0.122\n",
      "sulphates            0.2849      0.072      3.975      0.000       0.144       0.426\n",
      "alcohol              0.5812      0.070      8.286      0.000       0.443       0.719\n",
      "==============================================================================\n",
      "Omnibus:                        4.883   Durbin-Watson:                   1.666\n",
      "Prob(Omnibus):                  0.087   Jarque-Bera (JB):                4.523\n",
      "Skew:                          -0.304   Prob(JB):                        0.104\n",
      "Kurtosis:                       3.338   Cond. No.                         2.32\n",
      "==============================================================================\n",
      "\n",
      "Warnings:\n",
      "[1] Standard Errors assume that the covariance matrix of the errors is correctly specified.\n"
     ]
    }
   ],
   "source": [
    "from sklearn.model_selection import train_test_split\n",
    "from sklearn.preprocessing import StandardScaler\n",
    "from sklearn.linear_model import LinearRegression\n",
    "from sklearn.metrics import mean_squared_error, r2_score\n",
    "import statsmodels.api as sm\n",
    "\n",
    "import pandas as pd\n",
    "import numpy as np\n",
    "import matplotlib as plt\n",
    "import seaborn as sns\n",
    "\n",
    "red_data= pd.read_csv(\"winequality-red.csv\", delimiter=';')\n",
    "white_data= pd.read_csv(\"winequality-white.csv\", delimiter=';')\n",
    "\n",
    "##Removing average values\n",
    "red_data_mid_removed = red_data[red_data['quality'] != 5]\n",
    "red_data_mid_removed = red_data_mid_removed[red_data_mid_removed['quality'] != 6]\n",
    "\n",
    "X = red_data_mid_removed.drop(columns = ['quality'])\n",
    "y = red_data_mid_removed['quality'] #is is what I'm predicting\n",
    "           \n",
    "#ran the model,iterating and removing values that have a p value of >0.05\n",
    "X= X.drop(columns=['citric acid', 'density', 'residual sugar', 'fixed acidity', 'free sulfur dioxide', 'total sulfur dioxide'])\n",
    "\n",
    "    \n",
    "scale_col = ['volatile acidity', 'chlorides', 'pH', 'sulphates', 'alcohol']\n",
    "scaler = StandardScaler()\n",
    "X[scale_col] = scaler.fit_transform(X[scale_col])\n",
    "\n",
    "X_train, X_test, y_train, y_test = train_test_split(X, y, test_size = 0.2, random_state = 100)\n",
    "\n",
    "##Perfoming linear regression here\n",
    "X_train_sm = sm.add_constant(X_train)\n",
    "lr = sm.OLS(y_train, X_train_sm).fit()\n",
    "\n",
    "# OLS results\n",
    "print(lr.summary())\n",
    "\n"
   ]
  },
  {
   "cell_type": "markdown",
   "metadata": {},
   "source": [
    "# White Wine"
   ]
  },
  {
   "cell_type": "code",
   "execution_count": 65,
   "metadata": {},
   "outputs": [
    {
     "name": "stdout",
     "output_type": "stream",
     "text": [
      "                            OLS Regression Results                            \n",
      "==============================================================================\n",
      "Dep. Variable:                quality   R-squared:                       0.416\n",
      "Model:                            OLS   Adj. R-squared:                  0.414\n",
      "Method:                 Least Squares   F-statistic:                     191.5\n",
      "Date:                Sun, 06 Dec 2020   Prob (F-statistic):          1.01e-244\n",
      "Time:                        13:43:39   Log-Likelihood:                -2863.3\n",
      "No. Observations:                2160   AIC:                             5745.\n",
      "Df Residuals:                    2151   BIC:                             5796.\n",
      "Df Model:                           8                                         \n",
      "Covariance Type:            nonrobust                                         \n",
      "=======================================================================================\n",
      "                          coef    std err          t      P>|t|      [0.025      0.975]\n",
      "---------------------------------------------------------------------------------------\n",
      "const                   5.7728      0.020    293.832      0.000       5.734       5.811\n",
      "fixed acidity           0.1629      0.036      4.544      0.000       0.093       0.233\n",
      "volatile acidity       -0.2545      0.020    -12.804      0.000      -0.293      -0.215\n",
      "residual sugar          0.7876      0.076     10.317      0.000       0.638       0.937\n",
      "free sulfur dioxide     0.0751      0.021      3.587      0.000       0.034       0.116\n",
      "density                -1.0295      0.122     -8.463      0.000      -1.268      -0.791\n",
      "pH                      0.1896      0.031      6.103      0.000       0.129       0.251\n",
      "sulphates               0.1072      0.021      5.005      0.000       0.065       0.149\n",
      "alcohol                 0.1943      0.069      2.829      0.005       0.060       0.329\n",
      "==============================================================================\n",
      "Omnibus:                       29.628   Durbin-Watson:                   2.015\n",
      "Prob(Omnibus):                  0.000   Jarque-Bera (JB):               52.206\n",
      "Skew:                           0.030   Prob(JB):                     4.61e-12\n",
      "Kurtosis:                       3.759   Cond. No.                         13.4\n",
      "==============================================================================\n",
      "\n",
      "Warnings:\n",
      "[1] Standard Errors assume that the covariance matrix of the errors is correctly specified.\n"
     ]
    }
   ],
   "source": [
    "##Removing average values\n",
    "white_data_mid_removed = white_data[white_data['quality'] != 6]\n",
    "# white_data_mid_removed = white_data_mid_removed[white_data_mid_removed['quality'] != 7]\n",
    "\n",
    "X = white_data_mid_removed.drop(columns = ['quality'])\n",
    "y = white_data_mid_removed['quality'] #is is what I'm predicting\n",
    "\n",
    "#ran the model,iterating and removing values that have a p value of >0.05\n",
    "X= X.drop(columns=['citric acid',  'total sulfur dioxide', 'chlorides'])\n",
    "\n",
    "    \n",
    "scale_col = ['fixed acidity', 'free sulfur dioxide','residual sugar', 'density', 'volatile acidity','pH', 'sulphates', 'alcohol']\n",
    "scaler = StandardScaler()\n",
    "X[scale_col] = scaler.fit_transform(X[scale_col])\n",
    "\n",
    "X_train, X_test, y_train, y_test = train_test_split(X, y, test_size = 0.2, random_state = 100)\n",
    "\n",
    "##Perfoming linear regression here\n",
    "X_train_sm = sm.add_constant(X_train)\n",
    "lr = sm.OLS(y_train, X_train_sm).fit()\n",
    "\n",
    "# OLS results\n",
    "print(lr.summary())\n"
   ]
  },
  {
   "cell_type": "code",
   "execution_count": null,
   "metadata": {},
   "outputs": [],
   "source": []
  }
 ],
 "metadata": {
  "kernelspec": {
   "display_name": "Python 3",
   "language": "python",
   "name": "python3"
  },
  "language_info": {
   "codemirror_mode": {
    "name": "ipython",
    "version": 3
   },
   "file_extension": ".py",
   "mimetype": "text/x-python",
   "name": "python",
   "nbconvert_exporter": "python",
   "pygments_lexer": "ipython3",
   "version": "3.8.3"
  }
 },
 "nbformat": 4,
 "nbformat_minor": 4
}
