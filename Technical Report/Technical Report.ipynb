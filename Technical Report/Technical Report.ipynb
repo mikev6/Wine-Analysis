{
 "cells": [
  {
   "cell_type": "markdown",
   "metadata": {},
   "source": [
    "# Identifying features that make high or low quality wine\n",
    "Identifying the features that correlation with red, and separately, white, wine quality\n",
    "\n",
    "# Overview\n",
    "This model will identify the features that can predict wine quality\n",
    "\n",
    "## When?\n",
    "This contains a linear regression model that will identify the leading features, and how much influence they have, on the quality of high and low quality wine. Because the qualities of red and white wine are different, there will be two models: one for red, and one for white\n",
    "\n",
    "The metric that was determined how successful this model is is the R-squared value, from the OLS model.\n",
    "## Why?\n",
    "This project is interesting because quality wine can be a highly subjective measurement. If objective, quantitative measurements can be correlated with how the quality will be received, improvements can be made in wine production, marketing, and pricing.\n",
    "\n",
    "## Who?\n",
    "This project can be interesting to consumers, producers, and distributors of wine. \n",
    "    Consumers can use this model to research wine that may of high quality, or have similar metrics to other wines they enjoy. \n",
    "    Producers can use this model to change production practices to achieve different wine properties in order to have a more successful product. \n",
    "    Distributors can use this model to identifiy different price points and market certain wine accordingly.\n",
    "\n",
    "## Background and Research\n",
    "\n",
    "I didn't look for any other analysis on this dataset, but I'm sure it's been analyzed a lot in academic settings, as it's an easy-find, clean data set on UCI.\n",
    "# Get the data\n",
    "## Who?\n",
    "\n",
    "This is the data source:\n",
    "Paulo Cortez, University of Minho, Guimarães, Portugal, http://www3.dsi.uminho.pt/pcortez\n",
    "A. Cerdeira, F. Almeida, T. Matos and J. Reis, Viticulture Commission of the Vinho Verde Region(CVRVV), Porto, Portugal\n",
    "@2009\n",
    "## When?\n",
    "\n",
    "The data was collected in 2009.\n",
    "\n",
    "## What?\n",
    "\n",
    "The data is in two separate files, one for red, and one for white. They have the same features, including the dependent variable, quality. The 11 independent variables are:\n",
    "    fixed acidity\n",
    "    volatile acidity\n",
    "    citric acid\n",
    "    residual sugar\n",
    "    chlorides\n",
    "    free sulfur dioxide\n",
    "    total sulfur dioxide\n",
    "    density\n",
    "    pH\n",
    "    sulphates\n",
    "    alcohol\n",
    "    \n",
    "The white wine dataset has 1599 instances with the 12 features (1599, 12).\n",
    "The red wine dataset is has 4898 instances with the 12 features (4898, 12).\n",
    "\n",
    "There were no missing values. All of the data is type float64, with the exception of 'quality', which is int64.\n",
    "\n",
    "In the description of the data, it states that there is additional data that was not included, such as grape and location, for proproietary reasons. Having this data would have made this analysis even more interesting.\n",
    "## Links\n",
    "\n",
    "The data can be found at UCI:\n",
    "https://archive.ics.uci.edu/ml/machine-learning-databases/wine-quality/\n",
    "\n",
    "Citation Request:\n",
    "P. Cortez, A. Cerdeira, F. Almeida, T. Matos and J. Reis.\n",
    "Modeling wine preferences by data mining from physicochemical properties. In Decision Support Systems, Elsevier, 47(4):547-553, 2009.\n",
    "\n",
    "## Connect\n",
    "\n",
    "This a supervised learning problem, and the target column is 'quality'. We will explore which features contribute to high and low quality wine.\n",
    "We will start by using all of the features, and will elimintate them with RFE (Recursive Feature Engineering) by selecting low p-value features, iteratively.\n",
    "\n",
    "# Explore the Data\n",
    "See summary of EDA below, and full EDA at: https://github.com/mikev6/Wine-Analysis/blob/main/EDA/Wine_EDA.ipynb"
   ]
  },
  {
   "cell_type": "code",
   "execution_count": 24,
   "metadata": {
    "scrolled": false
   },
   "outputs": [
    {
     "name": "stdout",
     "output_type": "stream",
     "text": [
      "This is the shape of red wine data: (1599, 12)\n",
      "This is the shape of white wine data: (4898, 12) \n",
      "\n",
      "\n",
      " This is a count of each features empty values\n",
      "fixed acidity           0\n",
      "volatile acidity        0\n",
      "citric acid             0\n",
      "residual sugar          0\n",
      "chlorides               0\n",
      "free sulfur dioxide     0\n",
      "total sulfur dioxide    0\n",
      "density                 0\n",
      "pH                      0\n",
      "sulphates               0\n",
      "alcohol                 0\n",
      "quality                 0\n",
      "dtype: int64\n"
     ]
    },
    {
     "data": {
      "image/png": "[encoded data removed]",
      "text/plain": [
       "<Figure size 432x288 with 1 Axes>"
      ]
     },
     "metadata": {
      "needs_background": "light"
     },
     "output_type": "display_data"
    }
   ],
   "source": [
    "import pandas as pd\n",
    "import numpy as np\n",
    "import matplotlib as plt\n",
    "import seaborn as sns\n",
    "\n",
    "#Importing data from source\n",
    "red_data= pd.read_csv(\"https://archive.ics.uci.edu/ml/machine-learning-databases/wine-quality/winequality-red.csv\", delimiter=';')\n",
    "white_data= pd.read_csv(\"https://archive.ics.uci.edu/ml/machine-learning-databases/wine-quality/winequality-white.csv\", delimiter=';')\n",
    "\n",
    "# Showing the shapes of each dataset\n",
    "print('This is the shape of red wine data: %s' % (red_data.shape,))\n",
    "print('This is the shape of white wine data: %s \\n' % (white_data.shape,))\n",
    "\n",
    "#Counting number of empty values\n",
    "print('This is a count of each features empty values')\n",
    "print(red_data.isnull().sum())\n",
    "\n",
    "#Showing distribution of red wine quality\n",
    "red_hist = red_data['quality'].plot(kind='hist',subplots=True,sharex=True,sharey=True, title='Histogram of Quality Ratings of Red Wine')\n"
   ]
  },
  {
   "cell_type": "code",
   "execution_count": 2,
   "metadata": {
    "scrolled": false
   },
   "outputs": [
    {
     "data": {
      "text/plain": [
       "array([<matplotlib.axes._subplots.AxesSubplot object at 0x00000226F53D41C0>],\n",
       "      dtype=object)"
      ]
     },
     "execution_count": 2,
     "metadata": {},
     "output_type": "execute_result"
    },
    {
     "data": {
      "image/png": "[encoded data removed]",
      "text/plain": [
       "<Figure size 432x288 with 1 Axes>"
      ]
     },
     "metadata": {
      "needs_background": "light"
     },
     "output_type": "display_data"
    }
   ],
   "source": [
    "#Showing distribution of white wine quality\n",
    "white_data['quality'].plot(kind='hist',subplots=True,sharex=True,sharey=True,title='Histogram of Quality Ratings of White Wine')\n",
    "set_xlabel(\"Occurennces\")"
   ]
  },
  {
   "cell_type": "markdown",
   "metadata": {},
   "source": [
    "## Description of what was found during EDA\n",
    "As you can see above, there are a lot of 5 and 6-level quality of Red Wines, and a lot of 6 and 7-level quality of White Wines. As you will see further along, this imbalance can create a challenge when building a model predicting quality. "
   ]
  },
  {
   "cell_type": "code",
   "execution_count": null,
   "metadata": {},
   "outputs": [],
   "source": [
    "## I won't run this for you, as you don't want a scrapbook, but this is what I used to draw the following conclusions on red wine\n",
    "for col in red_data.columns:\n",
    "    plot = sns.relplot(data=red_data, x=col, y=\"quality\", kind='scatter')"
   ]
  },
  {
   "cell_type": "markdown",
   "metadata": {},
   "source": [
    "# First cut analysis of how each variable effects red wine quality based on scatterplots\n",
    "#### fixed acidity\n",
    "slight boomerang affect. at lower values, it improves quality, but then appears to have less of an affect\n",
    "#### volatile acidity\n",
    "negative relationship between volatile acididity and quality\n",
    "#### citric acid\n",
    "slightly positive relationship\n",
    "#### residual sugar\n",
    "doesn't appeear to be much of a relationship\n",
    "#### chlorides\n",
    "doesn't appeear to be much of a relationship\n",
    "#### free sulfur dioxide\n",
    "doesn't appeear to be much of a relationship\n",
    "#### total sulfur dioxide\n",
    "doesn't appeear to be much of a relationship\n",
    "#### density\n",
    "slight negative relationship\n",
    "#### pH\n",
    "doesn't appear to be much of a relationship\n",
    "#### sulphates\n",
    "slight positive relationship, but over 1, it doesn't appear to make much of a difference\n",
    "#### alcohol\n",
    "definite positive relationship"
   ]
  },
  {
   "cell_type": "code",
   "execution_count": null,
   "metadata": {},
   "outputs": [],
   "source": [
    "## I won't run this for you, as you don't want a scrapbook, but this is what I used to draw the following conclusions on white wine\n",
    "for col in white_data.columns:\n",
    "    plot = sns.relplot(data=white_data, x=col, y=\"quality\", kind='scatter')"
   ]
  },
  {
   "cell_type": "markdown",
   "metadata": {},
   "source": [
    "# First cut analysis of how each variable effects white wine quality based on scatterplots\n",
    "#### fixed acidity\n",
    "a slight negative relationship\n",
    "#### volatile acidity\n",
    "doesn't appear to be much of a relationship. possibly a slight negative relationship\n",
    "#### citric acid\n",
    "doesn't appear to be much of a relationship\n",
    "#### residual sugar\n",
    "doesn't appear to be much of a relationhip\n",
    "#### chlorides\n",
    "doesn't appear to be much of a relationship\n",
    "#### free sulfur dioxide\n",
    "doesn't appear to be much of a relationship\n",
    "#### total sulfur dioxide\n",
    "doesn't appear to be much of a relationship\n",
    "#### density\n",
    "could be a slight negative relationship\n",
    "#### pH\n",
    "slight positive relationship\n",
    "#### sulphates\n",
    "slight boomerang affect\n",
    "#### alcohol\n",
    "positive relationship"
   ]
  },
  {
   "cell_type": "markdown",
   "metadata": {},
   "source": []
  },
  {
   "cell_type": "markdown",
   "metadata": {},
   "source": [
    "\n",
    "\n",
    "If you are showing a plot make sure that there is a title, axes are labeled and you explained why you are showing me this plot (it's connection to the problem and solution).\n",
    "\n",
    "If you are working with a supervised learning problem, talk about the target variable. It's distribution, class imbalance etc.\n",
    "\n",
    "# Prepare Data\n",
    "\n",
    "Because this dataset was very clean (no missing or invalid values), there was not much preparation required. Once it was downloaded, I could begin EDA.\n",
    "\n",
    "# Modeling\n",
    "I am performing Linear Regression, using scikitlearn\n",
    "\n",
    "I am modeling the red and white wines separately, as I discovered during EDA, the features affect their quality raitng differently.\n",
    "\n",
    "The quality feature will be what the model is focusing on; determining which features (and how) contribute to quality of wine.\n",
    "\n",
    "The initial model that I tried used all of the data. As seen below, that did not result in a very predictive model (an R-squared value of < 0.3 for both red and white wines.\n"
   ]
  },
  {
   "cell_type": "markdown",
   "metadata": {},
   "source": [
    "## Initial Red Wine Quality Model"
   ]
  },
  {
   "cell_type": "code",
   "execution_count": 25,
   "metadata": {
    "scrolled": true
   },
   "outputs": [
    {
     "name": "stdout",
     "output_type": "stream",
     "text": [
      "                            OLS Regression Results                            \n",
      "==============================================================================\n",
      "Dep. Variable:                quality   R-squared:                       0.365\n",
      "Model:                            OLS   Adj. R-squared:                  0.362\n",
      "Method:                 Least Squares   F-statistic:                     121.8\n",
      "Date:                Sun, 06 Dec 2020   Prob (F-statistic):          1.05e-121\n",
      "Time:                        13:18:15   Log-Likelihood:                -1256.2\n",
      "No. Observations:                1279   AIC:                             2526.\n",
      "Df Residuals:                    1272   BIC:                             2563.\n",
      "Df Model:                           6                                         \n",
      "Covariance Type:            nonrobust                                         \n",
      "========================================================================================\n",
      "                           coef    std err          t      P>|t|      [0.025      0.975]\n",
      "----------------------------------------------------------------------------------------\n",
      "const                    5.6557      0.018    311.941      0.000       5.620       5.691\n",
      "volatile acidity        -0.1837      0.020     -9.221      0.000      -0.223      -0.145\n",
      "chlorides               -0.0804      0.021     -3.887      0.000      -0.121      -0.040\n",
      "total sulfur dioxide    -0.0841      0.018     -4.570      0.000      -0.120      -0.048\n",
      "pH                      -0.0653      0.020     -3.290      0.001      -0.104      -0.026\n",
      "sulphates                0.1413      0.021      6.801      0.000       0.101       0.182\n",
      "alcohol                  0.3243      0.020     16.201      0.000       0.285       0.364\n",
      "==============================================================================\n",
      "Omnibus:                       17.446   Durbin-Watson:                   2.053\n",
      "Prob(Omnibus):                  0.000   Jarque-Bera (JB):               22.921\n",
      "Skew:                          -0.169   Prob(JB):                     1.05e-05\n",
      "Kurtosis:                       3.562   Cond. No.                         1.92\n",
      "==============================================================================\n",
      "\n",
      "Warnings:\n",
      "[1] Standard Errors assume that the covariance matrix of the errors is correctly specified.\n"
     ]
    }
   ],
   "source": [
    "from sklearn.model_selection import train_test_split\n",
    "from sklearn.preprocessing import StandardScaler\n",
    "from sklearn.linear_model import LinearRegression\n",
    "from sklearn.metrics import mean_squared_error, r2_score\n",
    "import statsmodels.api as sm\n",
    "\n",
    "X = red_data.drop(columns = ['quality'])\n",
    "y = red_data['quality'] #is is what I'm predicting\n",
    "           \n",
    "#ran the model,iterating and removing values that have a p value of >0.05\n",
    "X= X.drop(columns=['fixed acidity', 'citric acid', 'density', 'residual sugar', 'free sulfur dioxide'])\n",
    "    \n",
    "scale_col = ['total sulfur dioxide', 'volatile acidity', 'chlorides', 'pH', 'sulphates', 'alcohol']\n",
    "scaler = StandardScaler()\n",
    "X[scale_col] = scaler.fit_transform(X[scale_col])\n",
    "\n",
    "X_train, X_test, y_train, y_test = train_test_split(X, y, test_size = 0.2, random_state = 100)\n",
    "\n",
    "##Perfoming linear regression here\n",
    "X_train_sm = sm.add_constant(X_train)\n",
    "lr = sm.OLS(y_train, X_train_sm).fit()\n",
    "\n",
    "# OLS results\n",
    "print(lr.summary())\n"
   ]
  },
  {
   "cell_type": "markdown",
   "metadata": {},
   "source": [
    "As you can see in the above model, the R-squared value only gets up to 0.365 for the red wine model, even after performing Recursive Feature Engineering."
   ]
  },
  {
   "cell_type": "markdown",
   "metadata": {},
   "source": [
    "## Initial White Wine Model"
   ]
  },
  {
   "cell_type": "code",
   "execution_count": 26,
   "metadata": {
    "scrolled": true
   },
   "outputs": [
    {
     "name": "stdout",
     "output_type": "stream",
     "text": [
      "                            OLS Regression Results                            \n",
      "==============================================================================\n",
      "Dep. Variable:                quality   R-squared:                       0.287\n",
      "Model:                            OLS   Adj. R-squared:                  0.285\n",
      "Method:                 Least Squares   F-statistic:                     196.3\n",
      "Date:                Sun, 06 Dec 2020   Prob (F-statistic):          7.33e-280\n",
      "Time:                        13:24:12   Log-Likelihood:                -4420.9\n",
      "No. Observations:                3918   AIC:                             8860.\n",
      "Df Residuals:                    3909   BIC:                             8916.\n",
      "Df Model:                           8                                         \n",
      "Covariance Type:            nonrobust                                         \n",
      "=======================================================================================\n",
      "                          coef    std err          t      P>|t|      [0.025      0.975]\n",
      "---------------------------------------------------------------------------------------\n",
      "const                   5.8731      0.012    490.993      0.000       5.850       5.897\n",
      "fixed acidity           0.0668      0.019      3.465      0.001       0.029       0.105\n",
      "volatile acidity       -0.1847      0.012    -15.007      0.000      -0.209      -0.161\n",
      "residual sugar          0.4253      0.041     10.454      0.000       0.346       0.505\n",
      "free sulfur dioxide     0.0557      0.013      4.350      0.000       0.031       0.081\n",
      "density                -0.4539      0.060     -7.608      0.000      -0.571      -0.337\n",
      "pH                      0.1099      0.017      6.354      0.000       0.076       0.144\n",
      "sulphates               0.0805      0.013      6.261      0.000       0.055       0.106\n",
      "alcohol                 0.2484      0.032      7.709      0.000       0.185       0.312\n",
      "==============================================================================\n",
      "Omnibus:                       79.478   Durbin-Watson:                   1.982\n",
      "Prob(Omnibus):                  0.000   Jarque-Bera (JB):              159.282\n",
      "Skew:                           0.089   Prob(JB):                     2.58e-35\n",
      "Kurtosis:                       3.972   Cond. No.                         10.7\n",
      "==============================================================================\n",
      "\n",
      "Warnings:\n",
      "[1] Standard Errors assume that the covariance matrix of the errors is correctly specified.\n"
     ]
    }
   ],
   "source": [
    "X = white_data.drop(columns = ['quality'])\n",
    "y = white_data['quality'] #is is what I'm predicting\n",
    "\n",
    "#ran the model,iterating and removing values that have a p value of >0.05\n",
    "X= X.drop(columns=['citric acid',  'chlorides', 'total sulfur dioxide'])\n",
    "    \n",
    "scale_col = ['fixed acidity', 'free sulfur dioxide','residual sugar', 'density', 'volatile acidity','pH', 'sulphates', 'alcohol']\n",
    "scaler = StandardScaler()\n",
    "X[scale_col] = scaler.fit_transform(X[scale_col])\n",
    "\n",
    "X_train, X_test, y_train, y_test = train_test_split(X, y, test_size = 0.2, random_state = 100)\n",
    "\n",
    "##Perfoming linear regression here\n",
    "X_train_sm = sm.add_constant(X_train)\n",
    "lr = sm.OLS(y_train, X_train_sm).fit()\n",
    "\n",
    "# OLS results\n",
    "print(lr.summary())"
   ]
  },
  {
   "cell_type": "markdown",
   "metadata": {},
   "source": [
    "For the white wine model, the R-squared value for the white wine model only gets to 0.287. Again, not very good (only 28.7% of the values can be explained by the model. "
   ]
  },
  {
   "cell_type": "markdown",
   "metadata": {},
   "source": [
    "# Fine Tune\n",
    "\n",
    "The approach I took to improve the r-squared value was to remove average values. I tried different methods, and this is what resulted in the highest r-squared values:\n",
    "\n",
    "### Red Wine\n",
    "Remove all samples that have quality scores of 5 and 6.\n",
    "\n",
    "### White Wine\n",
    "Remove all samples that have quality scores of 6.\n",
    "\n",
    "The results are below\n"
   ]
  },
  {
   "cell_type": "markdown",
   "metadata": {},
   "source": []
  },
  {
   "cell_type": "code",
   "execution_count": null,
   "metadata": {},
   "outputs": [],
   "source": [
    "##Removing average values\n",
    "red_data_mid_removed = red_data[red_data['quality'] != 5]\n",
    "red_data_mid_removed = red_data_mid_removed[red_data_mid_removed['quality'] != 6]\n",
    "\n",
    "X = red_data_mid_removed.drop(columns = ['quality'])\n",
    "y = red_data_mid_removed['quality'] #is is what I'm predicting\n",
    "           \n",
    "#ran the model,iterating and removing values that have a p value of >0.05\n",
    "X= X.drop(columns=['citric acid', 'density', 'residual sugar', 'fixed acidity', 'free sulfur dioxide', 'total sulfur dioxide'])\n",
    "\n",
    "    \n",
    "scale_col = ['volatile acidity', 'chlorides', 'pH', 'sulphates', 'alcohol']\n",
    "scaler = StandardScaler()\n",
    "X[scale_col] = scaler.fit_transform(X[scale_col])\n",
    "\n",
    "X_train, X_test, y_train, y_test = train_test_split(X, y, test_size = 0.2, random_state = 100)\n",
    "\n",
    "##Perfoming linear regression here\n",
    "X_train_sm = sm.add_constant(X_train)\n",
    "lr = sm.OLS(y_train, X_train_sm).fit()\n",
    "\n",
    "# OLS results"
   ]
  },
  {
   "cell_type": "code",
   "execution_count": null,
   "metadata": {},
   "outputs": [],
   "source": [
    "\n",
    "# Present Your Solution\n",
    "What are your results? Why?\n",
    "\n",
    "You must connect this part to the original business problem.\n",
    "\n",
    "How certain are you of your results?\n",
    "\n",
    "What are some limitations of your work?\n",
    "\n",
    "Compared to others' work in this field, how is your result? Above expectations? Why? Below expectations? Why?"
   ]
  }
 ],
 "metadata": {
  "kernelspec": {
   "display_name": "Python 3",
   "language": "python",
   "name": "python3"
  },
  "language_info": {
   "codemirror_mode": {
    "name": "ipython",
    "version": 3
   },
   "file_extension": ".py",
   "mimetype": "text/x-python",
   "name": "python",
   "nbconvert_exporter": "python",
   "pygments_lexer": "ipython3",
   "version": "3.8.3"
  }
 },
 "nbformat": 4,
 "nbformat_minor": 4
}
