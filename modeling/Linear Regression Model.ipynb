{
 "cells": [
  {
   "cell_type": "markdown",
   "metadata": {},
   "source": [
    "# Red Wine"
   ]
  },
  {
   "cell_type": "code",
   "execution_count": 29,
   "metadata": {
    "scrolled": true
   },
   "outputs": [
    {
     "name": "stdout",
     "output_type": "stream",
     "text": [
      "                            OLS Regression Results                            \n",
      "==============================================================================\n",
      "Dep. Variable:                quality   R-squared:                       0.361\n",
      "Model:                            OLS   Adj. R-squared:                  0.358\n",
      "Method:                 Least Squares   F-statistic:                     102.7\n",
      "Date:                Sat, 05 Dec 2020   Prob (F-statistic):          4.31e-119\n",
      "Time:                        09:02:39   Log-Likelihood:                -1254.9\n",
      "No. Observations:                1279   AIC:                             2526.\n",
      "Df Residuals:                    1271   BIC:                             2567.\n",
      "Df Model:                           7                                         \n",
      "Covariance Type:            nonrobust                                         \n",
      "========================================================================================\n",
      "                           coef    std err          t      P>|t|      [0.025      0.975]\n",
      "----------------------------------------------------------------------------------------\n",
      "const                    5.6205      0.018    310.332      0.000       5.585       5.656\n",
      "volatile acidity        -0.1899      0.020     -9.366      0.000      -0.230      -0.150\n",
      "chlorides               -0.0837      0.021     -4.056      0.000      -0.124      -0.043\n",
      "free sulfur dioxide      0.0659      0.025      2.629      0.009       0.017       0.115\n",
      "total sulfur dioxide    -0.1110      0.026     -4.276      0.000      -0.162      -0.060\n",
      "pH                      -0.0546      0.021     -2.637      0.008      -0.095      -0.014\n",
      "sulphates                0.1370      0.021      6.569      0.000       0.096       0.178\n",
      "alcohol                  0.3077      0.020     15.504      0.000       0.269       0.347\n",
      "==============================================================================\n",
      "Omnibus:                       25.764   Durbin-Watson:                   2.001\n",
      "Prob(Omnibus):                  0.000   Jarque-Bera (JB):               37.827\n",
      "Skew:                          -0.201   Prob(JB):                     6.11e-09\n",
      "Kurtosis:                       3.740   Cond. No.                         2.51\n",
      "==============================================================================\n",
      "\n",
      "Warnings:\n",
      "[1] Standard Errors assume that the covariance matrix of the errors is correctly specified.\n"
     ]
    }
   ],
   "source": [
    "from sklearn.model_selection import train_test_split\n",
    "from sklearn.preprocessing import StandardScaler\n",
    "from sklearn.linear_model import LinearRegression\n",
    "from sklearn.metrics import mean_squared_error, r2_score\n",
    "import statsmodels.api as sm\n",
    "\n",
    "import pandas as pd\n",
    "import numpy as np\n",
    "import matplotlib as plt\n",
    "import seaborn as sns\n",
    "\n",
    "red_data= pd.read_csv(\"winequality-red.csv\", delimiter=';')\n",
    "white_data= pd.read_csv(\"winequality-white.csv\", delimiter=';')\n",
    "\n",
    "\n",
    "X = red_data.drop(columns = ['quality'])\n",
    "y = red_data['quality'] #is is what I'm predicting\n",
    "           \n",
    "#ran the model,iterating and removing values that have a p value of >0.05\n",
    "X= X.drop(columns=['residual sugar' , 'density', 'fixed acidity' , 'citric acid'])\n",
    "\n",
    "    \n",
    "scale_col = ['volatile acidity', 'chlorides', 'free sulfur dioxide', 'total sulfur dioxide', 'pH', 'sulphates', 'alcohol']\n",
    "scaler = StandardScaler()\n",
    "X[scale_col] = scaler.fit_transform(X[scale_col])\n",
    "\n",
    "X_train, X_test, y_train, y_test = train_test_split(X, y, test_size = 0.2, random_state = 1000)\n",
    "\n",
    "##Perfoming linear regression here\n",
    "X_train_sm = sm.add_constant(X_train)\n",
    "lr = sm.OLS(y_train, X_train_sm).fit()\n",
    "\n",
    "# OLS results\n",
    "print(lr.summary())\n",
    "\n"
   ]
  },
  {
   "cell_type": "markdown",
   "metadata": {},
   "source": [
    "# White Wine"
   ]
  },
  {
   "cell_type": "code",
   "execution_count": 28,
   "metadata": {},
   "outputs": [
    {
     "name": "stdout",
     "output_type": "stream",
     "text": [
      "                            OLS Regression Results                            \n",
      "==============================================================================\n",
      "Dep. Variable:                quality   R-squared:                       0.271\n",
      "Model:                            OLS   Adj. R-squared:                  0.270\n",
      "Method:                 Least Squares   F-statistic:                     242.3\n",
      "Date:                Thu, 03 Dec 2020   Prob (F-statistic):          4.98e-264\n",
      "Time:                        22:50:24   Log-Likelihood:                -4434.6\n",
      "No. Observations:                3918   AIC:                             8883.\n",
      "Df Residuals:                    3911   BIC:                             8927.\n",
      "Df Model:                           6                                         \n",
      "Covariance Type:            nonrobust                                         \n",
      "====================================================================================\n",
      "                       coef    std err          t      P>|t|      [0.025      0.975]\n",
      "------------------------------------------------------------------------------------\n",
      "const                5.8796      0.012    489.852      0.000       5.856       5.903\n",
      "volatile acidity    -0.1930      0.012    -15.992      0.000      -0.217      -0.169\n",
      "residual sugar       0.3527      0.030     11.908      0.000       0.295       0.411\n",
      "density             -0.3351      0.042     -8.047      0.000      -0.417      -0.253\n",
      "pH                   0.0693      0.013      5.440      0.000       0.044       0.094\n",
      "sulphates            0.0658      0.012      5.288      0.000       0.041       0.090\n",
      "alcohol              0.2840      0.025     11.312      0.000       0.235       0.333\n",
      "==============================================================================\n",
      "Omnibus:                       77.742   Durbin-Watson:                   1.977\n",
      "Prob(Omnibus):                  0.000   Jarque-Bera (JB):              156.791\n",
      "Skew:                           0.076   Prob(JB):                     8.98e-35\n",
      "Kurtosis:                       3.968   Cond. No.                         7.07\n",
      "==============================================================================\n",
      "\n",
      "Warnings:\n",
      "[1] Standard Errors assume that the covariance matrix of the errors is correctly specified.\n"
     ]
    }
   ],
   "source": [
    "X = white_data.drop(columns = ['quality'])\n",
    "y = white_data['quality'] #is is what I'm predicting\n",
    "           \n",
    "#ran the model,iterating and removing values that have a p value of >0.05\n",
    "X= X.drop(columns=['chlorides', 'citric acid', 'total sulfur dioxide', 'fixed acidity', 'free sulfur dioxide'])\n",
    "\n",
    "    \n",
    "scale_col = ['residual sugar', 'density', 'volatile acidity','pH', 'sulphates', 'alcohol']\n",
    "scaler = StandardScaler()\n",
    "X[scale_col] = scaler.fit_transform(X[scale_col])\n",
    "\n",
    "X_train, X_test, y_train, y_test = train_test_split(X, y, test_size = 0.2, random_state = 1000)\n",
    "\n",
    "##Perfoming linear regression here\n",
    "X_train_sm = sm.add_constant(X_train)\n",
    "lr = sm.OLS(y_train, X_train_sm).fit()\n",
    "\n",
    "# OLS results\n",
    "print(lr.summary())\n"
   ]
  }
 ],
 "metadata": {
  "kernelspec": {
   "display_name": "Python 3",
   "language": "python",
   "name": "python3"
  },
  "language_info": {
   "codemirror_mode": {
    "name": "ipython",
    "version": 3
   },
   "file_extension": ".py",
   "mimetype": "text/x-python",
   "name": "python",
   "nbconvert_exporter": "python",
   "pygments_lexer": "ipython3",
   "version": "3.8.3"
  }
 },
 "nbformat": 4,
 "nbformat_minor": 4
}
